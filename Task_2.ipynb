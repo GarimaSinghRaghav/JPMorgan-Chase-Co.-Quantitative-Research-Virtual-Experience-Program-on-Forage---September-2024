{
 "cells": [
  {
   "cell_type": "markdown",
   "id": "460deec4",
   "metadata": {},
   "source": [
    "Function to price a gas storage contract.\n",
    "    \n",
    "    Parameters:\n",
    "    - injection_dates: List of injection dates.\n",
    "    - withdrawal_dates: List of withdrawal dates.\n",
    "    - injection_prices: Prices for gas at the injection dates.\n",
    "    - withdrawal_prices: Prices for gas at the withdrawal dates.\n",
    "    - injection_rates: List of injection rates per date (in MMBtu/day).\n",
    "    - withdrawal_rates: List of withdrawal rates per date (in MMBtu/day).\n",
    "    - max_storage_volume: Maximum storage volume (in MMBtu).\n",
    "    - storage_costs: Storage cost per day (in $/MMBtu).\n",
    "    - storage_duration_days: Number of days the gas is stored.\n",
    "    \n",
    "    Returns:\n",
    "    - The total value of the gas contract."
   ]
  },
  {
   "cell_type": "code",
   "execution_count": null,
   "id": "98f2f630",
   "metadata": {},
   "outputs": [],
   "source": [
    "import pandas as pd"
   ]
  },
  {
   "cell_type": "code",
   "execution_count": 4,
   "id": "d6b18555",
   "metadata": {},
   "outputs": [],
   "source": [
    "def price_gas_contract(injection_dates, withdrawal_dates, injection_prices, withdrawal_prices,\n",
    "                       injection_rates, withdrawal_rates, max_storage_volume, storage_costs, storage_duration_days):\n",
    "    total_value = 0\n",
    "    total_storage_cost = 0\n",
    "    current_storage_volume = 0  \n",
    "    for i, inj_date in enumerate(injection_dates):\n",
    "        # Calculate how much gas can be injected \n",
    "        injection_volume = min(injection_rates[i] * storage_duration_days, max_storage_volume - current_storage_volume)\n",
    "        purchase_cost = injection_volume * injection_prices[i]\n",
    "        current_storage_volume += injection_volume \n",
    "\n",
    "        print(f\"Injected {injection_volume} MMBtu on {inj_date} at ${injection_prices[i]}/MMBtu\")\n",
    "\n",
    "       \n",
    "        storage_cost = injection_volume * storage_costs * storage_duration_days\n",
    "        total_storage_cost += storage_cost\n",
    "\n",
    "    for j, wdr_date in enumerate(withdrawal_dates):\n",
    "        # Calculate how much gas can be withdrawn (limited by rate and available volume)\n",
    "        withdrawal_volume = min(withdrawal_rates[j] * storage_duration_days, current_storage_volume)\n",
    "        selling_price = withdrawal_volume * withdrawal_prices[j]\n",
    "        current_storage_volume -= withdrawal_volume  \n",
    "        print(f\"Withdrew {withdrawal_volume} MMBtu on {wdr_date} at ${withdrawal_prices[j]}/MMBtu\")\n",
    "        \n",
    "       \n",
    "        profit = selling_price - purchase_cost\n",
    "        total_value += profit\n",
    "\n",
    "    # Deduct storage costs from total value\n",
    "    total_value -= total_storage_cost\n",
    "\n",
    "    print(f\"Total storage cost: ${total_storage_cost:.2f}\")\n",
    "    print(f\"Total value of the contract: ${total_value:.2f}\")\n",
    "\n",
    "    return total_value"
   ]
  },
  {
   "cell_type": "code",
   "execution_count": null,
   "id": "e864e454",
   "metadata": {},
   "outputs": [],
   "source": []
  }
 ],
 "metadata": {
  "kernelspec": {
   "display_name": "Python 3 (ipykernel)",
   "language": "python",
   "name": "python3"
  },
  "language_info": {
   "codemirror_mode": {
    "name": "ipython",
    "version": 3
   },
   "file_extension": ".py",
   "mimetype": "text/x-python",
   "name": "python",
   "nbconvert_exporter": "python",
   "pygments_lexer": "ipython3",
   "version": "3.10.9"
  }
 },
 "nbformat": 4,
 "nbformat_minor": 5
}
